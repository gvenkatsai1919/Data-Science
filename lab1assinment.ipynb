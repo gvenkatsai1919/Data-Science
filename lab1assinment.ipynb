{
  "nbformat": 4,
  "nbformat_minor": 0,
  "metadata": {
    "colab": {
      "provenance": [],
      "collapsed_sections": []
    },
    "kernelspec": {
      "name": "python3",
      "display_name": "Python 3"
    },
    "language_info": {
      "name": "python"
    }
  },
  "cells": [
    {
      "cell_type": "markdown",
      "source": [
        "### 1. Generate a tuple from the set [\"aman\", \"222\", 777, 400.4] "
      ],
      "metadata": {
        "id": "h_ScoqlnLr5k"
      }
    },
    {
      "cell_type": "code",
      "source": [
        "a=tuple([\"aman\",\"222\",777,400.4])\n",
        "print(a)"
      ],
      "metadata": {
        "colab": {
          "base_uri": "https://localhost:8080/"
        },
        "id": "Cf2G4QWELr57",
        "outputId": "344f4bc4-6989-4a82-918e-bbb92381f5a2"
      },
      "execution_count": null,
      "outputs": [
        {
          "output_type": "stream",
          "name": "stdout",
          "text": [
            "('aman', '222', 777, 400.4)\n"
          ]
        }
      ]
    },
    {
      "cell_type": "markdown",
      "source": [
        "### 2. Create a dictionary of your basic data : (a) Roll No (b) Last Name (c) First Name (d) Date of birth. Print out the values and keys."
      ],
      "metadata": {
        "id": "tJNM-fWxJs_m"
      }
    },
    {
      "cell_type": "code",
      "source": [
        "d2={\"rollno\": \"CB.EN.U4CSE20221\",\"last_name\": \"sai\",\"first_name\": \"venkat\",\"dob\": \"09-09-2002\"}\n",
        "print(d2)"
      ],
      "metadata": {
        "colab": {
          "base_uri": "https://localhost:8080/"
        },
        "id": "j3KBn3cALIUE",
        "outputId": "546f15e6-e97f-4cb6-ceac-c1002f90d673"
      },
      "execution_count": null,
      "outputs": [
        {
          "output_type": "stream",
          "name": "stdout",
          "text": [
            "{'rollno': 'CB.EN.U4CSE20203', 'last_name': 'A', 'first_name': 'Tarun', 'dob': '12-12-2001'}\n"
          ]
        }
      ]
    },
    {
      "cell_type": "markdown",
      "source": [
        "### 3. Use rand function to generate a 2-dimensional random array with seed."
      ],
      "metadata": {
        "id": "z6HRQkBnKL_d"
      }
    },
    {
      "cell_type": "code",
      "source": [
        "import random\n",
        "import numpy as np\n",
        "from numpy import random\n",
        "np.random.seed(5)\n",
        "x=random.randint(10,size=(2,2))\n",
        "print(x)\n"
      ],
      "metadata": {
        "id": "EDikU7tsLJDI",
        "colab": {
          "base_uri": "https://localhost:8080/"
        },
        "outputId": "f53841e3-39b4-4efc-8760-a7733d414dd7"
      },
      "execution_count": 1,
      "outputs": [
        {
          "output_type": "stream",
          "name": "stdout",
          "text": [
            "[[3 6]\n",
            " [6 0]]\n"
          ]
        }
      ]
    },
    {
      "cell_type": "markdown",
      "source": [
        "### 4. Generate a single random number in [0.0, 1.0]. Find the absolute value of (-1234)"
      ],
      "metadata": {
        "id": "dfjnj6asKN3L"
      }
    },
    {
      "cell_type": "code",
      "source": [
        "import random\n",
        "print(round(random.uniform(0.1, 1.0), 10))\n",
        "print(abs(-1234))"
      ],
      "metadata": {
        "id": "zmcRL_URLKVB",
        "colab": {
          "base_uri": "https://localhost:8080/"
        },
        "outputId": "fa02e486-d504-4891-aa29-b871092a57f6"
      },
      "execution_count": null,
      "outputs": [
        {
          "output_type": "stream",
          "name": "stdout",
          "text": [
            "0.9414873335\n",
            "1234\n"
          ]
        }
      ]
    },
    {
      "cell_type": "markdown",
      "source": [
        "### 5. Return a random integer N such that 20 <= N <= 90."
      ],
      "metadata": {
        "id": "jO38HA2nKN6e"
      }
    },
    {
      "cell_type": "code",
      "source": [
        "import random \n",
        "print(random.randint(20,91))"
      ],
      "metadata": {
        "colab": {
          "base_uri": "https://localhost:8080/"
        },
        "id": "3KOR2WKuJtol",
        "outputId": "58440b1e-d47d-4045-acf0-be53257dd5d9"
      },
      "execution_count": null,
      "outputs": [
        {
          "output_type": "stream",
          "name": "stdout",
          "text": [
            "52\n"
          ]
        }
      ]
    },
    {
      "cell_type": "markdown",
      "source": [
        "### 6. Given a population or set[11, 12, 13,14, 15]\n",
        "\n",
        "o Return a 3 length list of unique elements without replacement.\n",
        "\n",
        "o Shuffle the above set\n",
        "\n",
        "o Print a random number from the set"
      ],
      "metadata": {
        "id": "DUZk0hlaJa3H"
      }
    },
    {
      "cell_type": "code",
      "source": [
        "a=[11,12,13,14,15]\n",
        "print(a[:3])\n",
        "print(a[random.randint(0,5)])"
      ],
      "metadata": {
        "colab": {
          "base_uri": "https://localhost:8080/"
        },
        "id": "iSOTB-X6LQlq",
        "outputId": "a4645ac7-e343-4cdd-f400-f23d23969d0a"
      },
      "execution_count": null,
      "outputs": [
        {
          "output_type": "stream",
          "name": "stdout",
          "text": [
            "[11, 12, 13]\n",
            "15\n"
          ]
        }
      ]
    },
    {
      "cell_type": "markdown",
      "source": [
        "### 7. Write the text \"The King is Dead, Long Live The King\" on to a file in your hard drive; read and print the text."
      ],
      "metadata": {
        "id": "_I0tLBbuLr57"
      }
    },
    {
      "cell_type": "code",
      "source": [
        "file=open(\"file1.txt\",\"w\")\n",
        "file.write(\"The King is Dead, Long Live The King\")\n",
        "file.close()\n",
        "file=open(\"file1.txt\",\"r\")\n",
        "for i in file:\n",
        "  print(i,end=\" \")"
      ],
      "metadata": {
        "id": "l-6ryRL9Lr58",
        "colab": {
          "base_uri": "https://localhost:8080/"
        },
        "outputId": "0b696880-406c-4c2d-c7de-6dca310a80f6"
      },
      "execution_count": null,
      "outputs": [
        {
          "output_type": "stream",
          "name": "stdout",
          "text": [
            "The King is Dead, Long Live The King "
          ]
        }
      ]
    },
    {
      "cell_type": "markdown",
      "source": [
        "### 8. Create an illustrative function to demonstrate use of: if, elif and else (b) for, while, break and continue."
      ],
      "metadata": {
        "id": "TtOgyiYVLr59"
      }
    },
    {
      "cell_type": "code",
      "source": [
        "def compare(x,y):\n",
        "  if x>y:\n",
        "    print(\"x greater than y\")\n",
        "  elif x<y:\n",
        "    print(\"y greater than x\")\n",
        "  else:\n",
        "    print(\"x equal to y\")\n",
        "compare(10,1)"
      ],
      "metadata": {
        "id": "5Zv5KQXmLr59",
        "colab": {
          "base_uri": "https://localhost:8080/"
        },
        "outputId": "56973959-3e5a-477e-82c7-133a594a3cae"
      },
      "execution_count": null,
      "outputs": [
        {
          "output_type": "stream",
          "name": "stdout",
          "text": [
            "x greater than y\n"
          ]
        }
      ]
    },
    {
      "cell_type": "markdown",
      "source": [
        "### 9. Given a string \"The King is Dead, Long Live The King\"\n",
        "\n",
        "o Print the complete string\n",
        "\n",
        "o Print first character of the string\n",
        "\n",
        "o Print characters starting from 3rd to 5th\n",
        "\n",
        "o Print string starting from 3rd character\n",
        "\n",
        "o Split the words"
      ],
      "metadata": {
        "id": "dMt6czgGLr59"
      }
    },
    {
      "cell_type": "code",
      "source": [
        "a=\"The King is Dead, Long Live The King\"\n",
        "print(a)\n",
        "print(a[0])\n",
        "print(a[2:5])\n",
        "print(a[2:])\n",
        "print(a.split())"
      ],
      "metadata": {
        "id": "KxuQN2trLr5-",
        "colab": {
          "base_uri": "https://localhost:8080/"
        },
        "outputId": "021a5830-c702-4a36-a0c6-6a051a87a7ad"
      },
      "execution_count": null,
      "outputs": [
        {
          "output_type": "stream",
          "name": "stdout",
          "text": [
            "The King is Dead, Long Live The King\n",
            "T\n",
            "e K\n",
            "e King is Dead, Long Live The King\n",
            "['The', 'King', 'is', 'Dead,', 'Long', 'Live', 'The', 'King']\n"
          ]
        }
      ]
    },
    {
      "cell_type": "markdown",
      "source": [
        "### 9. An array can be created from a list: Create an array from a list comprising of numbers 1,4,5,8 (treat them as floats).Slice the above array to display first and second elements"
      ],
      "metadata": {
        "id": "fIewnNEWLr5-"
      }
    },
    {
      "cell_type": "code",
      "source": [
        "a=[1,4,5,8]\n",
        "print(a[:2])"
      ],
      "metadata": {
        "id": "O11a2MehLr6A",
        "colab": {
          "base_uri": "https://localhost:8080/"
        },
        "outputId": "5771cd52-82e3-47b4-f28a-0e06525e668b"
      },
      "execution_count": null,
      "outputs": [
        {
          "output_type": "stream",
          "name": "stdout",
          "text": [
            "[1, 4]\n"
          ]
        }
      ]
    },
    {
      "cell_type": "markdown",
      "source": [
        "### 10. Arrays can be multidimensional. Create a two-dimensional array of (1,2,3) and (4,5,6)."
      ],
      "metadata": {
        "id": "uQr-cJEKROFD"
      }
    },
    {
      "cell_type": "code",
      "source": [
        "import numpy as np\n",
        "a=np.array([[1,2,3],[4,5,6]])\n",
        "print(a)"
      ],
      "metadata": {
        "id": "mQkibY29ROFS",
        "colab": {
          "base_uri": "https://localhost:8080/"
        },
        "outputId": "721e6847-0bc1-4931-df2e-4c75dde1ea34"
      },
      "execution_count": null,
      "outputs": [
        {
          "output_type": "stream",
          "name": "stdout",
          "text": [
            "[[1 2 3]\n",
            " [4 5 6]]\n"
          ]
        }
      ]
    },
    {
      "cell_type": "markdown",
      "source": [
        "### 11. Array slicing works with multiple dimensions in the same way as usual, applying each slice specification as a filter to a specified dimension. Consider two-dimensional array of (1,2,3) and (4,5,6).\n",
        "\n",
        "o Slice and display the 2nd row.\n",
        "\n",
        "o Write code to display as array([2., 5.])\n",
        "\n",
        "o Find the length of the array.\n",
        "\n"
      ],
      "metadata": {
        "id": "HZ-RYUs5ROFS"
      }
    },
    {
      "cell_type": "code",
      "source": [
        "print(a[1])\n",
        "print(a[0][1],a[1][1])\n",
        "print(len(a))"
      ],
      "metadata": {
        "id": "liff4fmaROFS",
        "colab": {
          "base_uri": "https://localhost:8080/"
        },
        "outputId": "a8ae9e01-2913-468b-99cf-7242c95e573c"
      },
      "execution_count": null,
      "outputs": [
        {
          "output_type": "stream",
          "name": "stdout",
          "text": [
            "[4 5 6]\n",
            "2 5\n",
            "2\n"
          ]
        }
      ]
    },
    {
      "cell_type": "markdown",
      "source": [
        "12. Arrays can be reshaped using tuples that specify new dimensions. Turn a ten-element one-dimensional array into a two-dimensional one whose first axis has five elements and whose second axis has two elements. Obtain the transpose of the array"
      ],
      "metadata": {
        "id": "j0HAtV3JROFT"
      }
    },
    {
      "cell_type": "code",
      "source": [
        "arr=np.array([1,2,3,4,5,6,7,8,9,0])\n",
        "print(arr)\n",
        "arr=arr.reshape(2,5)\n",
        "print(arr)"
      ],
      "metadata": {
        "id": "q6reQRuNROFT",
        "colab": {
          "base_uri": "https://localhost:8080/"
        },
        "outputId": "55bba383-14d1-46df-dec3-5aaadc203311"
      },
      "execution_count": null,
      "outputs": [
        {
          "output_type": "stream",
          "name": "stdout",
          "text": [
            "[1 2 3 4 5 6 7 8 9 0]\n",
            "[[1 2 3 4 5]\n",
            " [6 7 8 9 0]]\n"
          ]
        }
      ]
    },
    {
      "cell_type": "markdown",
      "source": [
        "### 13. Create an array from a list of 1,2 and 3."
      ],
      "metadata": {
        "id": "YzoCLQbhROFT"
      }
    },
    {
      "cell_type": "code",
      "source": [],
      "metadata": {
        "id": "HKBNEvXsROFU"
      },
      "execution_count": null,
      "outputs": []
    },
    {
      "cell_type": "markdown",
      "source": [
        "### 14. Fill an array [1,2,3] with a single value [9,9,9]."
      ],
      "metadata": {
        "id": "CXQnfESpROFU"
      }
    },
    {
      "cell_type": "code",
      "source": [
        "a=[1,2,3]\n",
        "a=np.full((3),9)\n",
        "print(a)"
      ],
      "metadata": {
        "id": "ur2sPQJaROFU",
        "colab": {
          "base_uri": "https://localhost:8080/"
        },
        "outputId": "80a57858-8f94-4d14-af54-83f6e6baa1b9"
      },
      "execution_count": null,
      "outputs": [
        {
          "output_type": "stream",
          "name": "stdout",
          "text": [
            "[9 9 9]\n"
          ]
        }
      ]
    },
    {
      "cell_type": "markdown",
      "source": [
        "### 15. Sum the elements of array [2,4,5]."
      ],
      "metadata": {
        "id": "m6gXO1d6ROFU"
      }
    },
    {
      "cell_type": "code",
      "source": [
        "a=[2,4,5]\n",
        "print(sum(a))"
      ],
      "metadata": {
        "id": "h3kEQBAGROFU",
        "colab": {
          "base_uri": "https://localhost:8080/"
        },
        "outputId": "072423e3-e577-4980-b411-b54614d33826"
      },
      "execution_count": null,
      "outputs": [
        {
          "output_type": "stream",
          "name": "stdout",
          "text": [
            "11\n"
          ]
        }
      ]
    },
    {
      "cell_type": "markdown",
      "source": [
        "### 16. Give the products of array [77,74,75]"
      ],
      "metadata": {
        "id": "KqpsLxFtROFV"
      }
    },
    {
      "cell_type": "code",
      "source": [
        "a=[77,74,75]\n",
        "product=1\n",
        "for i in a:\n",
        "  product*=i\n",
        "print(product)"
      ],
      "metadata": {
        "id": "gpoUvCGuROFV",
        "colab": {
          "base_uri": "https://localhost:8080/"
        },
        "outputId": "c9db1ca7-80c6-4629-e328-7a758e737da0"
      },
      "execution_count": null,
      "outputs": [
        {
          "output_type": "stream",
          "name": "stdout",
          "text": [
            "427350\n"
          ]
        }
      ]
    },
    {
      "cell_type": "markdown",
      "source": [
        "### 17. Given an array [2,1,9,1,2,22,1,1,4,55,6,2,56]. Find mean, variance, max, min, argmin, median, argmax and standard deviation."
      ],
      "metadata": {
        "id": "O1TFphJ-ROFV"
      }
    },
    {
      "cell_type": "code",
      "source": [
        "from scipy import stats\n",
        "a=np.array([2,1,9,1,2,22,1,1,4,55,6,2,56])\n",
        "print(\"Mean=\",np.mean(a))\n",
        "print(\"Median=\",np.median(a))\n",
        "print(\"Mode=\",stats.mode(a))\n",
        "print(\"Max=\",max(a))\n",
        "print(\"Min=\",min(a))\n"
      ],
      "metadata": {
        "id": "QLYQoT-JROFV",
        "colab": {
          "base_uri": "https://localhost:8080/"
        },
        "outputId": "ad87745c-9331-45a2-8880-ce02c40a0b2c"
      },
      "execution_count": null,
      "outputs": [
        {
          "output_type": "stream",
          "name": "stdout",
          "text": [
            "Mean= 12.461538461538462\n",
            "Median= 2.0\n",
            "Mode= ModeResult(mode=array([1]), count=array([4]))\n",
            "Max= 56\n",
            "Min= 1\n"
          ]
        }
      ]
    },
    {
      "cell_type": "markdown",
      "source": [
        "### 18. Extract unique elements from an array: [1, 1, 4, 5, 5, 5, 7] and sort it. "
      ],
      "metadata": {
        "id": "RJAlUybPROFV"
      }
    },
    {
      "cell_type": "code",
      "source": [
        "a=[1, 1, 4, 5, 5, 5, 7]\n",
        "a=list(set(a))\n",
        "a.sort()\n",
        "print(a)"
      ],
      "metadata": {
        "id": "4xL-AdGXROFW",
        "colab": {
          "base_uri": "https://localhost:8080/"
        },
        "outputId": "765cc058-af4b-44a5-af70-931d09037027"
      },
      "execution_count": null,
      "outputs": [
        {
          "output_type": "stream",
          "name": "stdout",
          "text": [
            "[1, 4, 5, 7]\n"
          ]
        }
      ]
    },
    {
      "cell_type": "markdown",
      "source": [],
      "metadata": {
        "id": "x2nT3jk9sfsy"
      }
    },
    {
      "cell_type": "markdown",
      "source": [
        "### 19. Find dot product of two arrays [1, 2, 3]and [0, 1, 1]."
      ],
      "metadata": {
        "id": "xHhx3ZbIROFW"
      }
    },
    {
      "cell_type": "code",
      "source": [
        "a=[1,2,3]\n",
        "b=[0,1,1]\n",
        "print(np.dot(a,b))"
      ],
      "metadata": {
        "id": "yhqTyeZHROFW",
        "colab": {
          "base_uri": "https://localhost:8080/"
        },
        "outputId": "b44ca0d1-444b-4f5f-a5fd-1651b764bfd6"
      },
      "execution_count": null,
      "outputs": [
        {
          "output_type": "stream",
          "name": "stdout",
          "text": [
            "5\n"
          ]
        }
      ]
    },
    {
      "cell_type": "markdown",
      "source": [
        "### 20. Find the eigenvalues and eigenvectors of matrix A."
      ],
      "metadata": {
        "id": "6zT1P4HPPUd_"
      }
    },
    {
      "cell_type": "code",
      "source": [
        "a=[[2,-12],[1,-5]]\n",
        "x,y=np.linalg.eig(a)\n",
        "print(x,y)"
      ],
      "metadata": {
        "id": "3lh7awqCPUeH",
        "colab": {
          "base_uri": "https://localhost:8080/"
        },
        "outputId": "f1fa9281-e811-40c8-c41b-1e7253db9261"
      },
      "execution_count": null,
      "outputs": [
        {
          "output_type": "stream",
          "name": "stdout",
          "text": [
            "[-1. -2.] [[0.9701425  0.9486833 ]\n",
            " [0.24253563 0.31622777]]\n"
          ]
        }
      ]
    },
    {
      "cell_type": "markdown",
      "source": [
        "### 21. Given an array with [11, 22, 11, 31], [25, 33, 31, 28]]. Treat as floats. Find the correlation coefficients."
      ],
      "metadata": {
        "id": "BiG36nPZPUeH"
      }
    },
    {
      "cell_type": "code",
      "source": [
        "a=[[11, 22, 11, 31], [25, 33, 31, 28]]\n",
        "print(np.corrcoef(a))"
      ],
      "metadata": {
        "id": "K2EqA_mFPUeH",
        "colab": {
          "base_uri": "https://localhost:8080/"
        },
        "outputId": "c2b1f944-c896-4406-eea7-73eee31aa597"
      },
      "execution_count": null,
      "outputs": [
        {
          "output_type": "stream",
          "name": "stdout",
          "text": [
            "[[1.         0.15997968]\n",
            " [0.15997968 1.        ]]\n"
          ]
        }
      ]
    }
  ]
}